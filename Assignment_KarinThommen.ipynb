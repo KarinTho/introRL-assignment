{
  "cells": [
    {
      "cell_type": "markdown",
      "id": "02944396",
      "metadata": {
        "id": "02944396"
      },
      "source": [
        "# Assignment"
      ]
    },
    {
      "cell_type": "markdown",
      "source": [
        "Karin Thommen, 16-580-011 \n",
        "\n",
        "---\n",
        "Code is based on Assignment-Template and Lab 1-3 from the Introduction to Reinforcement Learning course. \n",
        "# How to run the code \n",
        "1. Import the .py files given in the assignment \n",
        "2. Import all libraries   \n",
        "3. Initialize the environment \n",
        "4. Do Initialization-Part \n",
        "5. Run Sarsa-Part for Sarsa **OR** Run Q-Learning Part \n",
        "\n",
        "**Remark**: If you want to ran Q-Learning after running Sarsa, the initialization has to be done again in order to reset everything"
      ],
      "metadata": {
        "id": "5gtx5j9DfQBZ"
      },
      "id": "5gtx5j9DfQBZ"
    },
    {
      "cell_type": "code",
      "execution_count": 31,
      "id": "c9652bc6",
      "metadata": {
        "id": "c9652bc6"
      },
      "outputs": [],
      "source": [
        "# Import \n",
        "\n",
        "import numpy as np\n",
        "import matplotlib.pyplot as plt\n",
        "from degree_freedom_queen import *\n",
        "from degree_freedom_king1 import *\n",
        "from degree_freedom_king2 import *\n",
        "from generate_game import *\n",
        "from Chess_env import *\n",
        "from numpy import matlib\n",
        "import pandas as pd\n",
        "import random \n",
        "\n",
        "size_board = 4\n",
        "\n",
        "random.seed(48)\n",
        "np.random.seed(48)"
      ]
    },
    {
      "cell_type": "markdown",
      "id": "0bceca7c",
      "metadata": {
        "id": "0bceca7c"
      },
      "source": [
        "## The Environment (explaination) \n",
        "\n",
        "You can find the environment in the file Chess_env, which contains the class Chess_env. To define an object, you need to provide the board size considered as input. In our example, size_board=4. \n",
        "Chess_env is composed by the following methods:\n",
        "\n",
        "1. Initialise_game. The method initialises an episode by placing the three pieces considered (Agent's king and queen, enemy's king) in the chess board. The outputs of the method are described below in order.\n",
        "\n",
        "     S $\\;$ A matrix representing the board locations filled with 4 numbers: 0, no piece in that position; 1, location of the \n",
        "     agent's king; 2 location of the queen; 3 location of the enemy king.\n",
        "     \n",
        "     X $\\;$ The features, that is the input to the neural network. See the assignment for more information regarding the            definition of the features adopted. To personalise this, go into the Features method of the class Chess_env() and change        accordingly.\n",
        "     \n",
        "     allowed_a $\\;$ The allowed actions that the agent can make. The agent is moving a king, with a total number of 8                possible actions, and a queen, with a total number of $(board_{size}-1)\\times 8$ actions. The total number of possible actions correspond      to the sum of the two, but not all actions are allowed in a given position (movements to locations outside the borders or      against chess rules). Thus, the variable allowed_a is a vector that is one (zero) for an action that the agent can (can't)      make. Be careful, apply the policy considered on the actions that are allowed only.\n",
        "     \n",
        "\n",
        "2. OneStep. The method performs a one step update of the system. Given as input the action selected by the agent, it updates the chess board by performing that action and the response of the enemy king (which is a random allowed action in the settings considered). The first three outputs are the same as for the Initialise_game method, but the variables are computed for the position reached after the update of the system. The fourth and fifth outputs are:\n",
        "\n",
        "     R $\\;$ The reward. To change this, look at the OneStep method of the class where the rewards are set.\n",
        "     \n",
        "     Done $\\;$ A variable that is 1 if the episode has ended (checkmate or draw).\n",
        "     \n",
        "     \n",
        "3. Features. Given the chessboard position, the method computes the features.\n",
        "\n",
        "This information and a quick analysis of the class should be all you need to get going. The other functions that the class exploits are uncommented and constitute an example on how not to write a python code. You can take a look at them if you want, but it is not necessary.\n",
        "\n",
        "\n",
        "\n",
        "\n"
      ]
    },
    {
      "cell_type": "markdown",
      "source": [
        "# Initialize the Environment "
      ],
      "metadata": {
        "id": "Ipkb15SvMFE5"
      },
      "id": "Ipkb15SvMFE5"
    },
    {
      "cell_type": "code",
      "execution_count": 32,
      "id": "9593a299",
      "metadata": {
        "id": "9593a299"
      },
      "outputs": [],
      "source": [
        "## INITIALISE THE ENVIRONMENT\n",
        "\n",
        "env=Chess_Env(size_board)"
      ]
    },
    {
      "cell_type": "markdown",
      "source": [
        "## Given Examples of Random Agent"
      ],
      "metadata": {
        "id": "grrLdtwDGrjy"
      },
      "id": "grrLdtwDGrjy"
    },
    {
      "cell_type": "code",
      "execution_count": 4,
      "id": "bbc05bfd",
      "metadata": {
        "id": "bbc05bfd",
        "outputId": "80bf3e9c-6e80-4bfd-ded9-062edb1f9dc9",
        "colab": {
          "base_uri": "https://localhost:8080/"
        }
      },
      "outputs": [
        {
          "output_type": "stream",
          "name": "stdout",
          "text": [
            "[[0 3 0 0]\n",
            " [0 0 0 2]\n",
            " [0 0 1 0]\n",
            " [0 0 0 0]]\n",
            "check?  0\n",
            "dofk2  1\n",
            "\n",
            "[[3 0 0 0]\n",
            " [0 0 2 0]\n",
            " [0 0 1 0]\n",
            " [0 0 0 0]]\n",
            "0  0\n",
            "check?  0\n",
            "dofk2  0\n",
            "\n",
            "[[3 0 0 0]\n",
            " [0 0 2 1]\n",
            " [0 0 0 0]\n",
            " [0 0 0 0]]\n",
            "0.0  1\n",
            "check?  0\n",
            "dofk2  0\n"
          ]
        }
      ],
      "source": [
        "## PRINT 5 STEPS OF AN EPISODE CONSIDERING A RANDOM AGENT\n",
        "\n",
        "S,X,allowed_a=env.Initialise_game()                       # INTIALISE GAME\n",
        "\n",
        "print(S)                                                  # PRINT CHESS BOARD (SEE THE DESCRIPTION ABOVE)\n",
        "\n",
        "print('check? ',env.check)                                # PRINT VARIABLE THAT TELLS IF ENEMY KING IS IN CHECK (1) OR NOT (0)\n",
        "print('dofk2 ',np.sum(env.dfk2_constrain).astype(int))    # PRINT THE NUMBER OF LOCATIONS THAT THE ENEMY KING CAN MOVE TO\n",
        "\n",
        "\n",
        "for i in range(5):\n",
        "    \n",
        "    a,_=np.where(allowed_a==1)                  # FIND WHAT THE ALLOWED ACTIONS ARE\n",
        "    a_agent=np.random.permutation(a)[0]         # MAKE A RANDOM ACTION\n",
        "\n",
        "    S,X,allowed_a,R,Done=env.OneStep(a_agent)   # UPDATE THE ENVIRONMENT\n",
        "    \n",
        "    \n",
        "    ## PRINT CHESS BOARD AND VARIABLES\n",
        "    print('')\n",
        "    print(S)\n",
        "    print(R,'', Done)\n",
        "    print('check? ',env.check)\n",
        "    print('dofk2 ',np.sum(env.dfk2_constrain).astype(int))\n",
        "    \n",
        "    \n",
        "    # TERMINATE THE EPISODE IF Done=True (DRAW OR CHECKMATE)\n",
        "    if Done:\n",
        "        break\n",
        "        \n"
      ]
    },
    {
      "cell_type": "code",
      "execution_count": 5,
      "id": "fc16cf7b",
      "metadata": {
        "id": "fc16cf7b",
        "outputId": "10563af0-ed1e-44a5-fb4e-e1e4a8fc9543",
        "colab": {
          "base_uri": "https://localhost:8080/"
        }
      },
      "outputs": [
        {
          "output_type": "stream",
          "name": "stdout",
          "text": [
            "Random_Agent, Average reward: 0.203 Number of steps:  7.007\n"
          ]
        }
      ],
      "source": [
        "# PERFORM N_episodes=1000 EPISODES MAKING RANDOM ACTIONS AND COMPUTE THE AVERAGE REWARD AND NUMBER OF MOVES \n",
        "\n",
        "S,X,allowed_a=env.Initialise_game()\n",
        "N_episodes=1000\n",
        "\n",
        "# VARIABLES WHERE TO SAVE THE FINAL REWARD IN AN EPISODE AND THE NUMBER OF MOVES \n",
        "R_save_random = np.zeros([N_episodes, 1])\n",
        "N_moves_save_random = np.zeros([N_episodes, 1])\n",
        "\n",
        "for n in range(N_episodes):\n",
        "    \n",
        "    S,X,allowed_a=env.Initialise_game()     # INITIALISE GAME\n",
        "    Done=0                                  # SET Done=0 AT THE BEGINNING\n",
        "    i=1                                     # COUNTER FOR THE NUMBER OF ACTIONS (MOVES) IN AN EPISODE\n",
        "    \n",
        "    # UNTIL THE EPISODE IS NOT OVER...(Done=0)\n",
        "    while Done==0:\n",
        "        \n",
        "        # SAME AS THE CELL BEFORE, BUT SAVING THE RESULTS WHEN THE EPISODE TERMINATES \n",
        "        \n",
        "        a,_=np.where(allowed_a==1)\n",
        "        a_agent=np.random.permutation(a)[0]\n",
        "\n",
        "        S,X,allowed_a,R,Done=env.OneStep(a_agent)\n",
        "        \n",
        "        \n",
        "        if Done:\n",
        "            \n",
        "            R_save_random[n]=np.copy(R)\n",
        "            N_moves_save_random[n]=np.copy(i)\n",
        "\n",
        "            break\n",
        "\n",
        "        i=i+1                               # UPDATE THE COUNTER\n",
        "\n",
        "\n",
        "\n",
        "# AS YOU SEE, THE PERFORMANCE OF A RANDOM AGENT ARE NOT GREAT, SINCE THE MAJORITY OF THE POSITIONS END WITH A DRAW \n",
        "# (THE ENEMY KING IS NOT IN CHECK AND CAN'T MOVE)\n",
        "\n",
        "print('Random_Agent, Average reward:',np.mean(R_save_random),'Number of steps: ',np.mean(N_moves_save_random))\n",
        "\n"
      ]
    },
    {
      "cell_type": "markdown",
      "source": [
        "# Initialization"
      ],
      "metadata": {
        "id": "jJhC1J_lGvXh"
      },
      "id": "jJhC1J_lGvXh"
    },
    {
      "cell_type": "code",
      "execution_count": 38,
      "id": "ece20429",
      "metadata": {
        "id": "ece20429"
      },
      "outputs": [],
      "source": [
        "# INITIALISE THE PARAMETERS OF YOUR NEURAL NETWORK AND...\n",
        "# PLEASE CONSIDER TO USE A MASK OF ONE FOR THE ACTION MADE AND ZERO OTHERWISE IF YOU ARE NOT USING VANILLA GRADIENT DESCENT...\n",
        "# WE SUGGEST A NETWORK WITH ONE HIDDEN LAYER WITH SIZE 200. \n",
        "\n",
        "random.seed(48)\n",
        "np.random.seed(48)\n",
        "\n",
        "S,X,allowed_a=env.Initialise_game()\n",
        "N_a=np.shape(allowed_a)[0]   # TOTAL NUMBER OF POSSIBLE ACTIONS\n",
        "\n",
        "N_in=np.shape(X)[0]    ## INPUT SIZE\n",
        "N_h=200                ## NUMBER OF HIDDEN NODES\n",
        "\n",
        "N_o = N_a \n",
        "\n",
        "## INITALISE YOUR NEURAL NETWORK...\n",
        "# based on Lab Code \n",
        "\n",
        "W1 = np.random.uniform(0,1,(N_h, N_in)) # ADDED \n",
        "W2 = np.random.uniform(0,1,(N_o, N_h)) # ADDED \n",
        "# normalise the random weights so that the sum of each row =1\n",
        "W1 = np.divide(W1,np.matlib.repmat(np.sum(W1,1)[:,None],1,N_in)) # ADDED \n",
        "W2 = np.divide(W2,np.matlib.repmat(np.sum(W2,1)[:,None],1,N_h)) # ADDED \n",
        "# Add bias \n",
        "bias_W1 = np.zeros((N_h,)) # ADDED \n",
        "bias_W2 = np.zeros((N_o,)) # ADDED \n",
        "\n",
        "\n",
        "# ADDED: EPSILON GREEDY (based on Lab code)\n",
        "\n",
        "def EpsilonGreedy_Policy(Qvalues, allowed, epsilon): \n",
        "    N_a=np.shape(Qvalues)[0]\n",
        "    rand_value=np.random.uniform(0,1)\n",
        "    rand_a=rand_value<epsilon\n",
        "\n",
        "    if rand_a==True:\n",
        "        a=np.random.randint(0,N_a)\n",
        "\n",
        "        while not a in allowed: \n",
        "          # if a is not an allowed action, do as much as random choices \n",
        "          # until an allowed action is choosen \n",
        "          a=np.random.randint(0,N_a)\n",
        "\n",
        "    else:\n",
        "        a=np.argmax(Qvalues)\n",
        "        while not a in allowed: \n",
        "          # if the max Q value is not an allowed action, set value temporary \n",
        "          # to a very low value and choose the next max q value instead.\n",
        "          #  repeat until the highest q value of an allowed action is found \n",
        "          Qvalues[a] = -10000 \n",
        "          a = np.argmax(Qvalues) \n",
        "            \n",
        "    return a\n",
        "    \n",
        "# HYPERPARAMETERS SUGGESTED (FOR A GRID SIZE OF 4)\n",
        "epsilon_0 = 0.2     # STARTING VALUE OF EPSILON FOR THE EPSILON-GREEDY POLICY (given value 0.2)\n",
        "beta = 0.00005    # THE PARAMETER SETS HOW QUICKLY THE VALUE OF EPSILON IS DECAYING (SEE epsilon_f BELOW) (given 0.00005)\n",
        "gamma = 0.85     # THE DISCOUNT FACTOR (given 0.85)\n",
        "eta = 0.0035        # THE LEARNING RATE (given 0.0035)\n",
        "\n",
        "N_episodes = 100000 # THE NUMBER OF GAMES TO BE PLAYED (given 100000)\n",
        "\n",
        "#N_s = np.shape(S)[0]\n",
        "Qtable=np.random.randn(3500, N_a)/1000 # ADDED \n",
        "#greedy = np.argmax(Qtable,1) \n",
        "#actions = EpsilonGreedy_Policy(Qtable, epsilon_0) \n",
        "Q_lookup = {} # look up table where the different possible states are saved. \n",
        "known = 0 # variable that is used for the indexing \n",
        "\n",
        "# SAVING VARIABLES\n",
        "R_save = np.zeros([N_episodes, 1])\n",
        "N_moves_save = np.zeros([N_episodes, 1])\n",
        "\n",
        "C_save = np.zeros([N_episodes, 1]) # Added to count checks, not needed, shows same as rewards "
      ]
    },
    {
      "cell_type": "markdown",
      "source": [
        "# SARSA"
      ],
      "metadata": {
        "id": "dsIc5BXyNAdo"
      },
      "id": "dsIc5BXyNAdo"
    },
    {
      "cell_type": "code",
      "execution_count": 39,
      "id": "b288ad57",
      "metadata": {
        "id": "b288ad57",
        "colab": {
          "base_uri": "https://localhost:8080/"
        },
        "outputId": "863ae3d4-1773-47a3-e653-77d3d78b9f08"
      },
      "outputs": [
        {
          "output_type": "stream",
          "name": "stdout",
          "text": [
            "Sarsa_Agent, Average reward: 0.18662 Number of steps:  4.86108 Number of checks: 18662 from  100000\n"
          ]
        }
      ],
      "source": [
        "# SARSA \n",
        "\n",
        "random.seed(48)\n",
        "np.random.seed(48)\n",
        "\n",
        "checks = 0 \n",
        "\n",
        "for n in range(N_episodes):\n",
        "\n",
        "    epsilon_f = epsilon_0 / (1 + beta * n)   ## DECAYING EPSILON\n",
        "    Done=0                                   ## SET DONE TO ZERO (BEGINNING OF THE EPISODE)\n",
        "    i = 1                                    ## COUNTER FOR NUMBER OF ACTIONS\n",
        "    \n",
        "    S,X,allowed_a=env.Initialise_game()      ## INITIALISE GAME\n",
        "    #print(n)                                 ## REMOVE THIS OF COURSE, WE USED THIS TO CHECK THAT IT WAS RUNNING\n",
        "\n",
        "    while Done==0:                           ## START THE EPISODE\n",
        "        \n",
        "        # GET STATE NUMBER \n",
        "        k = list(Q_lookup.keys()) # look up the keys (index of specific state) \n",
        "        v = list(Q_lookup.values()) # look up the values (states) \n",
        "        S_lookup = S.tolist() # convert the state to a list for comparison \n",
        "\n",
        "        if S_lookup in v:  # check if the given state of the game is already saved\n",
        "          position = v.index(S.tolist()) # get position of the state in the list \n",
        "          state = k[position] # access state number via position in list \n",
        "\n",
        "        else:  # state is not in list \n",
        "          Q_lookup[known] = S_lookup # save the state to the list  \n",
        "          state = known # set current index as state number \n",
        "          known += 1 \n",
        "          \n",
        "\n",
        "        a,_=np.where(allowed_a==1) # find allowed actions \n",
        "        \n",
        "        Qvalues = Qtable[state] # get values at specific state, not needed, just for debugging   \n",
        "\n",
        "        a_agent = EpsilonGreedy_Policy(Qvalues, a, epsilon_f) # choose current action with epsilon greedy \n",
        "         \n",
        "        S_next,X_next,allowed_a_next,R,Done=env.OneStep(a_agent) # do step, find next state and allowed actions  \n",
        " \n",
        "        \n",
        "        # GET STATE NUMBER in a similar way as above \n",
        "        k_next = list(Q_lookup.keys())\n",
        "        v_next = list(Q_lookup.values()) \n",
        "\n",
        "        if not isinstance(S_next, list): # some error occurred. needed in case that S_next is already a list \n",
        "          X_lookup_next = S_next.tolist()\n",
        "        else: \n",
        "          X_lookup_next = S_next\n",
        "\n",
        "        if X_lookup_next in v_next:  \n",
        "          position_next = v_next.index(X_lookup_next)\n",
        "          state_next = k_next[position_next] \n",
        "\n",
        "        else: \n",
        "          Q_lookup[known] = X_lookup_next\n",
        "          state_next = known \n",
        "          known += 1 \n",
        "\n",
        "\n",
        "        if Done != 1:     # in the case that we are not in the last part of an episode and the game continues     \n",
        "          a_agent_next ,_= np.where(allowed_a_next==1) # find next allowed actoins \n",
        "          \n",
        "          Qvalues_next = Qtable[state_next]  # for debugging \n",
        "\n",
        "          a_next = EpsilonGreedy_Policy(Qvalues_next, a_agent_next, epsilon_f)  # do epsilon greedy on next allowed actions to get next action \n",
        "\n",
        "          next_value = Qtable[state_next, a_next] # for debugging \n",
        "\n",
        "          # update the Q table according to given states and actions (current and next) \n",
        "          Qtable[state, a_agent] = Qtable[state, a_agent] + eta * (R + gamma * Qtable[state_next, a_next] - Qtable[state, a_agent])\n",
        "\n",
        "\n",
        "        ## THE EPISODE HAS ENDED, UPDATE...BE CAREFUL, THIS IS THE LAST STEP OF THE EPISODE\n",
        "        if Done==1: \n",
        "            R_save[n]=np.copy(R)\n",
        "            N_moves_save[n]=np.copy(i) \n",
        "            C_save[n] = env.check \n",
        "\n",
        "            if env.check == 1: # count checks \n",
        "              checks += 1        \n",
        "            break\n",
        "      \n",
        "        # IF THE EPISODE IS NOT OVER...\n",
        "        else:\n",
        "            ## ONLY TO PUT SUMETHING\n",
        "            PIPPO=1\n",
        "\n",
        "\n",
        "        # NEXT STATE AND CO. BECOME ACTUAL STATE...     \n",
        "        S=np.copy(S_next)\n",
        "        X=np.copy(X_next)\n",
        "        allowed_a=np.copy(allowed_a_next)\n",
        "        \n",
        "        i += 1  # UPDATE COUNTER FOR NUMBER OF ACTIONS\n",
        "\n",
        "print('Sarsa_Agent, Average reward:',np.mean(R_save),'Number of steps: ',np.mean(N_moves_save), 'Number of checks:', checks, 'from ', N_episodes)\n"
      ]
    },
    {
      "cell_type": "code",
      "source": [
        "'''\n",
        "# PLOTS (REWARDS AND STEPS)\n",
        "plt.figure(figsize = (10,3))\n",
        "R_save_data = pd.Series(R_save.flatten())\n",
        "mov_rev = R_save_data.rolling(window=20000).mean() #Moving Average\n",
        "plt.plot(mov_rev)\n",
        "plt.xlabel(\"Number of episodes\")\n",
        "plt.ylabel('Reward per episode (moving average 20000)')\n",
        "plt.title(\"SARSA: Training results on rewards per game\")\n",
        "plt.show()\n",
        "\n",
        "plt.figure(figsize = (10,3))\n",
        "N_moves_save_data = pd.Series(N_moves_save.flatten())\n",
        "mov_moves = N_moves_save_data.rolling(window=20000).mean() #Moving Average\n",
        "plt.plot(mov_moves)\n",
        "plt.xlabel(\"Number of episodes\")\n",
        "plt.ylabel('Number of moves (moving average 20000)')\n",
        "plt.title(\"SARSA: Training results on number of moves per game\")\n",
        "plt.show()\n",
        "'''"
      ],
      "metadata": {
        "id": "PEYgzpeo28XS"
      },
      "id": "PEYgzpeo28XS",
      "execution_count": null,
      "outputs": []
    },
    {
      "cell_type": "code",
      "source": [
        "# PLOTS (REWARDS AND STEPS)\n",
        "plt.figure(figsize = (10,3))\n",
        "R_data_s = pd.DataFrame({'moves' : R_save.flatten()})\n",
        "exp_R_s = R_data_s.ewm(alpha=0.001).mean()\n",
        "plt.plot(exp_R_s, 'blue')\n",
        "plt.xlabel(\"Number of episodes\")\n",
        "plt.ylabel('Number of moves \\n(exp. mov. average, alpha = 0.001)')\n",
        "plt.title(\"SARSA: Training results on rewards per game\\naverage reward: {}, gamma {}, beta {}\".format(np.mean(R_save), gamma, beta))\n",
        "plt.show()\n",
        "\n",
        "plt.figure(figsize = (10,3))\n",
        "N_moves_save_data_s = pd.DataFrame({'moves' : N_moves_save.flatten()})\n",
        "exp_moves_s = N_moves_save_data_s.ewm(alpha=0.001).mean()\n",
        "plt.plot(exp_moves_s, 'blue')\n",
        "plt.xlabel(\"Number of episodes\")\n",
        "plt.ylabel('Number of moves \\n(exp. mov. average, alpha = 0.001)')\n",
        "plt.title(\"SARSA: Training results on number of moves per game\\naverage nr. of steps: {}, gamma {}, beta {}\".format(np.mean(N_moves_save), gamma, beta))\n",
        "plt.show()"
      ],
      "metadata": {
        "colab": {
          "base_uri": "https://localhost:8080/",
          "height": 495
        },
        "id": "qbDaaMAE1W_N",
        "outputId": "d6543a85-0ab5-4123-ac1a-5e8a7cd11304"
      },
      "id": "qbDaaMAE1W_N",
      "execution_count": 40,
      "outputs": [
        {
          "output_type": "display_data",
          "data": {
            "text/plain": [
              "<Figure size 720x216 with 1 Axes>"
            ],
            "image/png": "[encoded data removed]"
          },
          "metadata": {
            "needs_background": "light"
          }
        },
        {
          "output_type": "display_data",
          "data": {
            "text/plain": [
              "<Figure size 720x216 with 1 Axes>"
            ],
            "image/png": "[encoded data removed]"
          },
          "metadata": {
            "needs_background": "light"
          }
        }
      ]
    },
    {
      "cell_type": "markdown",
      "source": [
        "## Experimenting with gaming without updating Q values "
      ],
      "metadata": {
        "id": "SSc0uvscKu4y"
      },
      "id": "SSc0uvscKu4y"
    },
    {
      "cell_type": "code",
      "source": [
        "'''\n",
        "Q_saved = np.copy(Qtable)\n",
        "Q_lookup_save = Q_lookup.copy()\n",
        "'''"
      ],
      "metadata": {
        "id": "z9_u-NrHqSVJ"
      },
      "id": "z9_u-NrHqSVJ",
      "execution_count": null,
      "outputs": []
    },
    {
      "cell_type": "code",
      "source": [
        "''' \n",
        "# PLAYING THE GAME \n",
        "\n",
        "N_episodes=5000\n",
        "\n",
        "# VARIABLES WHERE TO SAVE THE FINAL REWARD IN AN EPISODE AND THE NUMBER OF MOVES \n",
        "R_save_sarsa = np.zeros([N_episodes, 1])\n",
        "N_moves_sarsa = np.zeros([N_episodes, 1])\n",
        "C_save_sarsa = np.zeros([N_episodes, 1])\n",
        "\n",
        "key = list(Q_lookup_save.keys())\n",
        "val = list(Q_lookup_save.values())\n",
        "\n",
        "for n in range(N_episodes):\n",
        "    \n",
        "    S,X,allowed_a=env.Initialise_game()     # INITIALISE GAME\n",
        "    Done=0                                  # SET Done=0 AT THE BEGINNING\n",
        "    i=1                                     # COUNTER FOR THE NUMBER OF ACTIONS (MOVES) IN AN EPISODE\n",
        "    print(n)\n",
        "\n",
        "    # UNTIL THE EPISODE IS NOT OVER...(Done=0)\n",
        "    while Done==0:\n",
        "                \n",
        "        a,_=np.where(allowed_a==1) # get allowed actions \n",
        "\n",
        "        # SEARCH STATE IN Q TABLE        \n",
        "        if np.sum(S) == 6: \n",
        "          position = val.index(S.tolist())\n",
        "          current_state = key[position] \n",
        "                    \n",
        "          Qvalues = Q_saved[current_state] # get values at specific state \n",
        "\n",
        "          # PERFORM ACTION BUT DO NOT UPDATE THE Q TABLE \n",
        "          a_agent = EpsilonGreedy_Policy(Qvalues, a, epsilon_f) # do greedy search at given q values in q table \n",
        "          \n",
        "          S,X,allowed_a,R,Done=env.OneStep(a_agent)\n",
        "\n",
        "        elif np.sum(S) != 6: \n",
        "          print(S)\n",
        "          break \n",
        "\n",
        "        if Done:\n",
        "            R_save_sarsa[n]=np.copy(R) \n",
        "            N_moves_sarsa[n]=np.copy(i)\n",
        "\n",
        "            break\n",
        "\n",
        "        i=i+1                               # UPDATE THE COUNTER\n",
        "\n",
        "\n",
        "print('Sarsa Testing, Average reward:',np.mean(R_save_sarsa),'Number of steps: ',np.mean(N_moves_sarsa))\n",
        "\n",
        "\n",
        "'''"
      ],
      "metadata": {
        "id": "VNts0cYil830"
      },
      "id": "VNts0cYil830",
      "execution_count": null,
      "outputs": []
    },
    {
      "cell_type": "markdown",
      "source": [
        "# Q-LEARNING"
      ],
      "metadata": {
        "id": "-5dwP4kuM3-b"
      },
      "id": "-5dwP4kuM3-b"
    },
    {
      "cell_type": "code",
      "source": [
        "# Q-LEARNING \n",
        "random.seed(48)\n",
        "np.random.seed(48)\n",
        "\n",
        "checks = 0 \n",
        "\n",
        "for n in range(N_episodes):\n",
        "\n",
        "    epsilon_f = epsilon_0 / (1 + beta * n)   ## DECAYING EPSILON\n",
        "    Done=0                                   ## SET DONE TO ZERO (BEGINNING OF THE EPISODE)\n",
        "    i = 1                                    ## COUNTER FOR NUMBER OF ACTIONS\n",
        "    \n",
        "    S,X,allowed_a=env.Initialise_game()      ## INITIALISE GAME\n",
        "    #print(n)                                 ## REMOVE THIS OF COURSE, WE USED THIS TO CHECK THAT IT WAS RUNNING\n",
        "\n",
        "    while Done==0:                           ## START THE EPISODE\n",
        "        # GET STATE NUMBER \n",
        "        k = list(Q_lookup.keys()) # look up the keys (index of specific state) \n",
        "        v = list(Q_lookup.values()) # look up the values (states) \n",
        "        S_lookup = S.tolist() # convert the state to a list for comparison \n",
        "\n",
        "        if S_lookup in v:  # check if the given state of the game is already saved\n",
        "          position = v.index(S.tolist()) # get position of the state in the list \n",
        "          state = k[position] # access state number via position in list \n",
        "\n",
        "        else:  # state is not in list \n",
        "          Q_lookup[known] = S_lookup # save the state to the list  \n",
        "          state = known # set current index as state number \n",
        "          known += 1 \n",
        "          \n",
        "\n",
        "        a,_=np.where(allowed_a==1) # find allowed actions \n",
        "        \n",
        "        Qvalues = Qtable[state] # get values at specific state, not needed, just for debugging   \n",
        "\n",
        "        a_agent = EpsilonGreedy_Policy(Qvalues, a, epsilon_f) # choose current action with epsilon greedy \n",
        "         \n",
        "        S_next,X_next,allowed_a_next,R,Done=env.OneStep(a_agent) # do step, find next state and allowed actions  \n",
        " \n",
        "        \n",
        "        # GET STATE NUMBER in a similar way as above \n",
        "        k_next = list(Q_lookup.keys())\n",
        "        v_next = list(Q_lookup.values()) \n",
        "\n",
        "        if not isinstance(S_next, list): # some error occurred. needed in case that S_next is already a list \n",
        "          X_lookup_next = S_next.tolist()\n",
        "        else: \n",
        "          X_lookup_next = S_next\n",
        "\n",
        "        if X_lookup_next in v_next:  \n",
        "          position_next = v_next.index(X_lookup_next)\n",
        "          state_next = k_next[position_next] \n",
        "\n",
        "        else: \n",
        "          Q_lookup[known] = X_lookup_next\n",
        "          state_next = known \n",
        "          known += 1 \n",
        "\n",
        "\n",
        "        if Done != 1:     # in the case that we are not in the last part of an episode and the game continues     \n",
        "          a_agent_next ,_= np.where(allowed_a_next==1) # find next allowed actoins \n",
        "          \n",
        "          Qvalues_next = Qtable[state_next]  # for debugging \n",
        "\n",
        "          next_value = np.max(Qtable[state_next]) # for debugging \n",
        "\n",
        "          # update Q table according to actions\n",
        "          Qtable[state, a_agent] = Qtable[state, a_agent] + eta * (R - Qtable[state, a_agent] + gamma * np.max(Qtable[state_next]))\n",
        "           \n",
        "          a_next = EpsilonGreedy_Policy(Qvalues_next, a_agent_next, epsilon_f)  # do epsilon greedy \n",
        "\n",
        "\n",
        "        ## THE EPISODE HAS ENDED, UPDATE...BE CAREFUL, THIS IS THE LAST STEP OF THE EPISODE\n",
        "        if Done==1: \n",
        "            R_save[n]=np.copy(R)\n",
        "            N_moves_save[n]=np.copy(i) \n",
        "            C_save[n] = env.check \n",
        "\n",
        "            if env.check == 1: \n",
        "              checks += 1        \n",
        "            break\n",
        "      \n",
        "        # IF THE EPISODE IS NOT OVER...\n",
        "        else:\n",
        "            ## ONLY TO PUT SUMETHING\n",
        "            PIPPO=1\n",
        "\n",
        "\n",
        "        # NEXT STATE AND CO. BECOME ACTUAL STATE...     \n",
        "        S=np.copy(S_next)\n",
        "        X=np.copy(X_next)\n",
        "        allowed_a=np.copy(allowed_a_next)\n",
        "        \n",
        "        i += 1  # UPDATE COUNTER FOR NUMBER OF ACTIONS\n",
        "\n",
        "print('QL_Agent, Average reward:',np.mean(R_save),'Number of steps: ',np.mean(N_moves_save), 'Number of checks:', checks, 'from ', N_episodes)\n",
        "\n",
        "\n",
        "\n",
        "\n",
        "\n"
      ],
      "metadata": {
        "id": "XW5DirFCM1S3",
        "colab": {
          "base_uri": "https://localhost:8080/"
        },
        "outputId": "baf7755f-606d-4460-cbca-600251683e76"
      },
      "id": "XW5DirFCM1S3",
      "execution_count": 36,
      "outputs": [
        {
          "output_type": "stream",
          "name": "stdout",
          "text": [
            "QL_Agent, Average reward: 0.1683 Number of steps:  5.1795 Number of checks: 16830 from  100000\n"
          ]
        }
      ]
    },
    {
      "cell_type": "code",
      "source": [
        "# PLOTS (REWARDS AND STEPS)\n",
        "plt.figure(figsize = (10,3))\n",
        "R_data_q = pd.DataFrame({'moves' : R_save.flatten()})\n",
        "exp_R_q = R_data_q.ewm(span=20000).mean()\n",
        "plt.plot(exp_R_q, 'g')\n",
        "\n",
        "plt.xlabel(\"Number of episodes\")\n",
        "plt.ylabel('Rewards \\n(exp. mov. average, alpha = 0.001)')\n",
        "plt.title(\"Q-Learning: Training results on rewards per game\\naverage reward: {}, gamma {}, beta {}\".format(np.mean(R_save), gamma, beta))\n",
        "plt.show()\n",
        "\n",
        "plt.figure(figsize = (10,3))\n",
        "N_moves_save_data_q = pd.DataFrame({'moves' : N_moves_save.flatten()})\n",
        "exp_moves_q = N_moves_save_data_q.ewm(alpha=0.0001).mean()\n",
        "plt.plot(exp_moves_q, 'g')\n",
        "plt.xlabel(\"Number of episodes\")\n",
        "plt.ylabel('Number of moves \\n(exp. mov. average, alpha = 0.001)')\n",
        "plt.title(\"Q-Learning: Training results on number of moves per game\\naverage nr. of steps: {}, gamma {}, beta {}\".format(np.mean(N_moves_save), gamma, beta))\n",
        "plt.show()"
      ],
      "metadata": {
        "colab": {
          "base_uri": "https://localhost:8080/",
          "height": 495
        },
        "id": "Q3EqmJU4hekx",
        "outputId": "5cc6d581-4a18-40ab-d76b-681a402bcbf3"
      },
      "id": "Q3EqmJU4hekx",
      "execution_count": 37,
      "outputs": [
        {
          "output_type": "display_data",
          "data": {
            "text/plain": [
              "<Figure size 720x216 with 1 Axes>"
            ],
            "image/png": "[encoded data removed]"
          },
          "metadata": {
            "needs_background": "light"
          }
        },
        {
          "output_type": "display_data",
          "data": {
            "text/plain": [
              "<Figure size 720x216 with 1 Axes>"
            ],
            "image/png": "[encoded data removed]"
          },
          "metadata": {
            "needs_background": "light"
          }
        }
      ]
    },
    {
      "cell_type": "markdown",
      "source": [
        "# Given Training Loop (Random Agent) "
      ],
      "metadata": {
        "id": "9h4bPFTeM8Qo"
      },
      "id": "9h4bPFTeM8Qo"
    },
    {
      "cell_type": "code",
      "execution_count": null,
      "id": "e6ba1f84",
      "metadata": {
        "id": "e6ba1f84"
      },
      "outputs": [],
      "source": [
        "# TRAINING LOOP BONE STRUCTURE...\n",
        "# I WROTE FOR YOU A RANDOM AGENT (THE RANDOM AGENT WILL BE SLOWER TO GIVE CHECKMATE THAN AN OPTIMISED ONE, \n",
        "# SO DON'T GET CONCERNED BY THE TIME IT TAKES), CHANGE WITH YOURS ...\n",
        "\n",
        "for n in range(N_episodes):\n",
        "\n",
        "    epsilon_f = epsilon_0 / (1 + beta * n)   ## DECAYING EPSILON\n",
        "    Done=0                                   ## SET DONE TO ZERO (BEGINNING OF THE EPISODE)\n",
        "    i = 1                                    ## COUNTER FOR NUMBER OF ACTIONS\n",
        "    \n",
        "    S,X,allowed_a=env.Initialise_game()      ## INITIALISE GAME\n",
        "    print(n)                                 ## REMOVE THIS OF COURSE, WE USED THIS TO CHECK THAT IT WAS RUNNING\n",
        "    \n",
        "    while Done==0:                           ## START THE EPISODE\n",
        "        \n",
        "        \n",
        "        ## THIS IS A RANDOM AGENT, CHANGE IT...\n",
        "        \n",
        "        a,_=np.where(allowed_a==1)\n",
        "        a_agent=np.random.permutation(a)[0]                \n",
        "        S_next,X_next,allowed_a_next,R,Done=env.OneStep(a_agent)\n",
        "        \n",
        "        ## THE EPISODE HAS ENDED, UPDATE...BE CAREFUL, THIS IS THE LAST STEP OF THE EPISODE\n",
        "        if Done==1:\n",
        "            \n",
        "            \n",
        "            break\n",
        "        \n",
        "               \n",
        "        # IF THE EPISODE IS NOT OVER...\n",
        "        else:\n",
        "            \n",
        "            ## ONLY TO PUT SUMETHING\n",
        "            PIPPO=1\n",
        "            \n",
        "           \n",
        "        # NEXT STATE AND CO. BECOME ACTUAL STATE...     \n",
        "        S=np.copy(S_next)\n",
        "        X=np.copy(X_next)\n",
        "        allowed_a=np.copy(allowed_a_next)\n",
        "        \n",
        "        i += 1  # UPDATE COUNTER FOR NUMBER OF ACTIONS\n",
        "\n",
        "        \n",
        "        \n",
        "    \n",
        "    "
      ]
    }
  ],
  "metadata": {
    "kernelspec": {
      "display_name": "Python 3 (ipykernel)",
      "language": "python",
      "name": "python3"
    },
    "language_info": {
      "codemirror_mode": {
        "name": "ipython",
        "version": 3
      },
      "file_extension": ".py",
      "mimetype": "text/x-python",
      "name": "python",
      "nbconvert_exporter": "python",
      "pygments_lexer": "ipython3",
      "version": "3.8.12"
    },
    "colab": {
      "name": "Kopie von Assignment.ipynb",
      "provenance": []
    },
    "accelerator": "GPU"
  },
  "nbformat": 4,
  "nbformat_minor": 5
}